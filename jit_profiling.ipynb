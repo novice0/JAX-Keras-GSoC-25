{
 "cells": [
  {
   "cell_type": "markdown",
   "metadata": {},
   "source": [
    "## Profiling jax.jit"
   ]
  },
  {
   "cell_type": "markdown",
   "metadata": {},
   "source": [
    "### 🚀 Introduction to `jax.jit`\n",
    "\n",
    "`jax.jit` stands for **Just-In-Time compilation**. It’s one of the core transformations in JAX that dramatically **speeds up execution** by compiling Python functions into optimized XLA (Accelerated Linear Algebra) code.\n",
    "\n",
    "### 🔧 What it does:\n",
    "- **Compiles** your function the first time it runs.\n",
    "- **Caches** the compiled version for reuse with the same input shapes/dtypes.\n",
    "- **Reduces Python overhead**, enabling high-performance execution on **CPUs, GPUs, and TPUs**.\n",
    "\n",
    "### 📈 Why use it:\n",
    "- Massive speedups for computationally heavy functions (e.g., matrix multiplications, neural networks).\n",
    "- Essential for **LLM training**, **model parallelism**, and **inference at scale**.\n",
    "- Works seamlessly with JAX's functional programming style and other transformations (`grad`, `vmap`, etc.).\n",
    "\n",
    "### ⚠️ Watch out:\n",
    "- Compilation takes time (noticeable on the **first call**).\n",
    "- Changing input **shapes or dtypes** can trigger recompilation.\n",
    "- Python-side code (like print statements) may be ignored or delayed during JIT execution.\n",
    "\n",
    "> 💡 Pro Tip: Use `jax.jit` for **hot loops** or functions called repeatedly to benefit from its full power."
   ]
  },
  {
   "cell_type": "code",
   "execution_count": 2,
   "metadata": {},
   "outputs": [
    {
     "name": "stdout",
     "output_type": "stream",
     "text": [
      "JAX Device: cpu\n"
     ]
    }
   ],
   "source": [
    "# jit_profiling.ipynb\n",
    "\n",
    "# Cell 1: Imports and Setup\n",
    "import jax\n",
    "import jax.extend\n",
    "import jax.numpy as jnp\n",
    "import numpy as np\n",
    "import time\n",
    "import gc\n",
    "from jax.lib import xla_bridge\n",
    "\n",
    "print(\"JAX Device:\", jax.extend.backend.get_backend().platform)"
   ]
  },
  {
   "cell_type": "code",
   "execution_count": 3,
   "metadata": {},
   "outputs": [],
   "source": [
    "# Cell 2: Helper — Memory Usage Utility (Only CPU-compatible)\n",
    "import os, psutil\n",
    "\n",
    "def get_memory_usage_mb():\n",
    "    process = psutil.Process(os.getpid())\n",
    "    return process.memory_info().rss / 1024 / 1024  # in MB"
   ]
  },
  {
   "cell_type": "code",
   "execution_count": 4,
   "metadata": {},
   "outputs": [],
   "source": [
    "# Cell 3: Define a Simple Function (Matrix Multiplication)\n",
    "def matmul(x, y):\n",
    "    return jnp.dot(x, y)\n",
    "\n",
    "# Create test inputs\n",
    "size = 2048\n",
    "x = jnp.ones((size, size), dtype=jnp.float32)\n",
    "y = jnp.ones((size, size), dtype=jnp.float32)"
   ]
  },
  {
   "cell_type": "code",
   "execution_count": 5,
   "metadata": {},
   "outputs": [
    {
     "name": "stdout",
     "output_type": "stream",
     "text": [
      "Un-JITed Execution Time: 0.06286382675170898 seconds\n",
      "Memory Usage: 24.796875 MB\n"
     ]
    }
   ],
   "source": [
    "# Cell 4: Profile Un-JITed Execution\n",
    "gc.collect()\n",
    "\n",
    "start_mem = get_memory_usage_mb()\n",
    "start_time = time.time()\n",
    "\n",
    "out = matmul(x, y).block_until_ready()\n",
    "\n",
    "end_time = time.time()\n",
    "end_mem = get_memory_usage_mb()\n",
    "\n",
    "print(\"Un-JITed Execution Time:\", end_time - start_time, \"seconds\")\n",
    "print(\"Memory Usage:\", end_mem - start_mem, \"MB\")"
   ]
  },
  {
   "cell_type": "code",
   "execution_count": 6,
   "metadata": {},
   "outputs": [
    {
     "name": "stdout",
     "output_type": "stream",
     "text": [
      "JITed (First Call) Execution Time: 0.06277608871459961 seconds\n",
      "Memory Usage: 21.859375 MB\n"
     ]
    }
   ],
   "source": [
    "# Cell 5: Profile JIT-Compiled Execution (First Call Includes Compilation)\n",
    "gc.collect()\n",
    "\n",
    "jit_matmul = jax.jit(matmul)\n",
    "\n",
    "start_mem = get_memory_usage_mb()\n",
    "start_time = time.time()\n",
    "\n",
    "out = jit_matmul(x, y).block_until_ready()\n",
    "\n",
    "end_time = time.time()\n",
    "end_mem = get_memory_usage_mb()\n",
    "\n",
    "print(\"JITed (First Call) Execution Time:\", end_time - start_time, \"seconds\")\n",
    "print(\"Memory Usage:\", end_mem - start_mem, \"MB\")"
   ]
  },
  {
   "cell_type": "code",
   "execution_count": 7,
   "metadata": {},
   "outputs": [
    {
     "name": "stdout",
     "output_type": "stream",
     "text": [
      "JITed (Second Call) Execution Time: 0.04286909103393555 seconds\n",
      "Memory Usage: 16.84375 MB\n"
     ]
    }
   ],
   "source": [
    "# Cell 6: Profile JIT-Compiled Execution (Second Call Shows Runtime Gains)\n",
    "gc.collect()\n",
    "\n",
    "start_mem = get_memory_usage_mb()\n",
    "start_time = time.time()\n",
    "\n",
    "out = jit_matmul(x, y).block_until_ready()\n",
    "\n",
    "end_time = time.time()\n",
    "end_mem = get_memory_usage_mb()\n",
    "\n",
    "print(\"JITed (Second Call) Execution Time:\", end_time - start_time, \"seconds\")\n",
    "print(\"Memory Usage:\", end_mem - start_mem, \"MB\")"
   ]
  },
  {
   "cell_type": "code",
   "execution_count": 8,
   "metadata": {},
   "outputs": [
    {
     "data": {
      "text/markdown": [
       "\n",
       "### 📊 Interpretation\n",
       "\n",
       "- **First JIT Run** shows **high latency** due to compilation.\n",
       "- **Second JIT Run** is **significantly faster**, demonstrating `jit`'s value for repeated execution.\n",
       "- Memory usage differences can vary by platform (TPU vs GPU vs CPU) and compilation artifacts.\n",
       "\n",
       "**💡 Tip**: Use `jax.jit` only for functions that run multiple times to amortize compilation cost.\n"
      ],
      "text/plain": [
       "<IPython.core.display.Markdown object>"
      ]
     },
     "execution_count": 8,
     "metadata": {},
     "output_type": "execute_result"
    }
   ],
   "source": [
    "# Cell 7: Interpretation\n",
    "from IPython.display import Markdown\n",
    "\n",
    "Markdown(\"\"\"\n",
    "### 📊 Interpretation\n",
    "\n",
    "- **First JIT Run** shows **high latency** due to compilation.\n",
    "- **Second JIT Run** is **significantly faster**, demonstrating `jit`'s value for repeated execution.\n",
    "- Memory usage differences can vary by platform (TPU vs GPU vs CPU) and compilation artifacts.\n",
    "\n",
    "**💡 Tip**: Use `jax.jit` only for functions that run multiple times to amortize compilation cost.\n",
    "\"\"\")"
   ]
  }
 ],
 "metadata": {
  "kernelspec": {
   "display_name": "venv",
   "language": "python",
   "name": "python3"
  },
  "language_info": {
   "codemirror_mode": {
    "name": "ipython",
    "version": 3
   },
   "file_extension": ".py",
   "mimetype": "text/x-python",
   "name": "python",
   "nbconvert_exporter": "python",
   "pygments_lexer": "ipython3",
   "version": "3.10.13"
  }
 },
 "nbformat": 4,
 "nbformat_minor": 2
}
